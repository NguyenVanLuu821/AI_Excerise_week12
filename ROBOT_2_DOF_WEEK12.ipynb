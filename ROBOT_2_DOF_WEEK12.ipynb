{
  "nbformat": 4,
  "nbformat_minor": 0,
  "metadata": {
    "colab": {
      "name": "ROBOT_2_DOF_WEEK12.ipynb",
      "provenance": [],
      "collapsed_sections": [],
      "authorship_tag": "ABX9TyPvKmAcmjH2vIF+3ic7WUiA",
      "include_colab_link": true
    },
    "kernelspec": {
      "name": "python3",
      "display_name": "Python 3"
    },
    "language_info": {
      "name": "python"
    }
  },
  "cells": [
    {
      "cell_type": "markdown",
      "metadata": {
        "id": "view-in-github",
        "colab_type": "text"
      },
      "source": [
        "<a href=\"https://colab.research.google.com/github/NguyenVanLuu821/AI_Excerise_week12/blob/main/ROBOT_2_DOF_WEEK12.ipynb\" target=\"_parent\"><img src=\"https://colab.research.google.com/assets/colab-badge.svg\" alt=\"Open In Colab\"/></a>"
      ]
    },
    {
      "cell_type": "markdown",
      "source": [
        "#1.IMPORT LIBRARY"
      ],
      "metadata": {
        "id": "GonDkQaDOpou"
      }
    },
    {
      "cell_type": "code",
      "source": [
        "import numpy as np\n",
        "import math as m\n",
        "import csv\n",
        "import pandas as pd\n",
        "import matplotlib.pyplot as plt\n",
        "from numpy.lib.function_base import append\n",
        "from sklearn.model_selection import train_test_split\n",
        "from keras.models import Sequential \n",
        "from keras.layers import Dense, Dropout, Activation\n",
        "from tensorflow.keras.optimizers import Adam\n"
      ],
      "metadata": {
        "id": "liwIT6GCO2pl"
      },
      "execution_count": null,
      "outputs": []
    },
    {
      "cell_type": "markdown",
      "source": [
        "#2.CREATE DATA"
      ],
      "metadata": {
        "id": "3tiH_X_VO4m6"
      }
    },
    {
      "cell_type": "code",
      "source": [
        "#create data\n",
        "l1 = 50 #length for link 1\n",
        "l2 = 40 #length for link 2\n",
        "#create array for data\n",
        "x_train = [] \n",
        "y_train = []\n",
        "data=[]\n",
        "a = [] \n",
        "for t1 in range(0, 180, 1):\n",
        "  for t2 in range(0, 180, 1):\n",
        "    #forward kinematics\n",
        "    px = l1*m.cos(m.radians(t1)) + l2*m.cos(m.radians(t1+t2))\n",
        "    py = l1*m.sin(m.radians(t1)) + l2*m.sin(m.radians(t1+t2))\n",
        "    a.append(np.array((t1,t2,px,py))) #colletion of variables into an array\n",
        "  data.extend(a)"
      ],
      "metadata": {
        "id": "nOJvnNWDO_bQ"
      },
      "execution_count": null,
      "outputs": []
    },
    {
      "cell_type": "code",
      "source": [
        "#save data into file robot_2_dof.csv\n",
        "header = ['t1', 't2', 'Px', 'Py'] \n",
        "with open('robot_2_dof.csv', 'w', encoding='UTF8', newline='') as f:\n",
        "    writer = csv.writer(f)\n",
        "    # write the header\n",
        "    writer.writerow(header)\n",
        "    # write the multiple rows\n",
        "    writer.writerows(data)"
      ],
      "metadata": {
        "id": "XPrahiNSY-n8"
      },
      "execution_count": null,
      "outputs": []
    },
    {
      "cell_type": "code",
      "source": [
        "#processing data\n",
        "data=pd.read_csv('robot_2_dof.csv')\n",
        "x=(np.array(data.drop(['t1','t2'],axis=1))+90)/180   #create variable y containing input data is px, py \n",
        "y=np.array(data[['t1','t2']])/180  #create variable y containing output data is angle t1, t2\n",
        "x_train,x_test,y_train,y_test = train_test_split(x,y,test_size=0.20)\n",
        "x_train.shape"
      ],
      "metadata": {
        "id": "xCv1tHdtTL3z",
        "colab": {
          "base_uri": "https://localhost:8080/"
        },
        "outputId": "c8df5af3-fb34-462c-9d0d-aef886d2298a"
      },
      "execution_count": null,
      "outputs": [
        {
          "output_type": "execute_result",
          "data": {
            "text/plain": [
              "(2345760, 2)"
            ]
          },
          "metadata": {},
          "execution_count": 5
        }
      ]
    },
    {
      "cell_type": "markdown",
      "source": [
        "#3.CREATE MODEL"
      ],
      "metadata": {
        "id": "bpElNq93fNm6"
      }
    },
    {
      "cell_type": "code",
      "source": [
        "#create model\n",
        "model = Sequential() \n",
        "model.add(Dense(64, activation='relu', input_shape = (2,))) #2 input and 64 noron for layer 1\n",
        "model.add(Dense(64, activation='relu')) #64 noron for layer 2\n",
        "model.add(Dense(32, activation='relu')) #32 noron for layer 3\n",
        "model.add(Dense(2)) #2 output\n",
        "model.summary()\n"
      ],
      "metadata": {
        "id": "NkxXp0NDTmyJ",
        "colab": {
          "base_uri": "https://localhost:8080/"
        },
        "outputId": "bc5050c7-694e-472a-8e87-fa13b08f1fc4"
      },
      "execution_count": null,
      "outputs": [
        {
          "output_type": "stream",
          "name": "stdout",
          "text": [
            "Model: \"sequential\"\n",
            "_________________________________________________________________\n",
            " Layer (type)                Output Shape              Param #   \n",
            "=================================================================\n",
            " dense (Dense)               (None, 64)                192       \n",
            "                                                                 \n",
            " dense_1 (Dense)             (None, 64)                4160      \n",
            "                                                                 \n",
            " dense_2 (Dense)             (None, 32)                2080      \n",
            "                                                                 \n",
            " dense_3 (Dense)             (None, 2)                 66        \n",
            "                                                                 \n",
            "=================================================================\n",
            "Total params: 6,498\n",
            "Trainable params: 6,498\n",
            "Non-trainable params: 0\n",
            "_________________________________________________________________\n"
          ]
        }
      ]
    },
    {
      "cell_type": "markdown",
      "source": [
        "#4.TRAINING"
      ],
      "metadata": {
        "id": "z4WX1qBRfZoL"
      }
    },
    {
      "cell_type": "code",
      "source": [
        "model.compile(loss='mae', optimizer =Adam(), metrics=['acc']) #using mae\n",
        "history = model.fit(x_train, y_train, batch_size = 32, epochs = 10, validation_split = 0.2)  #80% data for train, 20% data for test"
      ],
      "metadata": {
        "id": "dl6h2LlXfSJ-",
        "colab": {
          "base_uri": "https://localhost:8080/"
        },
        "outputId": "4fba9cc0-1315-410a-b66c-8fbc8e58dadc"
      },
      "execution_count": null,
      "outputs": [
        {
          "output_type": "stream",
          "name": "stdout",
          "text": [
            "Epoch 1/10\n",
            "58644/58644 [==============================] - 111s 2ms/step - loss: 0.0089 - acc: 0.9816 - val_loss: 0.0069 - val_acc: 0.9769\n",
            "Epoch 2/10\n",
            "58644/58644 [==============================] - 110s 2ms/step - loss: 0.0055 - acc: 0.9879 - val_loss: 0.0058 - val_acc: 0.9878\n",
            "Epoch 3/10\n",
            "58644/58644 [==============================] - 115s 2ms/step - loss: 0.0048 - acc: 0.9890 - val_loss: 0.0038 - val_acc: 0.9907\n",
            "Epoch 4/10\n",
            "58644/58644 [==============================] - 109s 2ms/step - loss: 0.0043 - acc: 0.9898 - val_loss: 0.0046 - val_acc: 0.9901\n",
            "Epoch 5/10\n",
            "58644/58644 [==============================] - 115s 2ms/step - loss: 0.0040 - acc: 0.9904 - val_loss: 0.0031 - val_acc: 0.9904\n",
            "Epoch 6/10\n",
            "58644/58644 [==============================] - 115s 2ms/step - loss: 0.0038 - acc: 0.9908 - val_loss: 0.0040 - val_acc: 0.9890\n",
            "Epoch 7/10\n",
            "58644/58644 [==============================] - 107s 2ms/step - loss: 0.0037 - acc: 0.9911 - val_loss: 0.0035 - val_acc: 0.9936\n",
            "Epoch 8/10\n",
            "58644/58644 [==============================] - 114s 2ms/step - loss: 0.0036 - acc: 0.9915 - val_loss: 0.0039 - val_acc: 0.9910\n",
            "Epoch 9/10\n",
            "58644/58644 [==============================] - 107s 2ms/step - loss: 0.0035 - acc: 0.9917 - val_loss: 0.0031 - val_acc: 0.9949\n",
            "Epoch 10/10\n",
            "58644/58644 [==============================] - 119s 2ms/step - loss: 0.0034 - acc: 0.9919 - val_loss: 0.0029 - val_acc: 0.9962\n"
          ]
        }
      ]
    },
    {
      "cell_type": "code",
      "source": [
        "#save model\n",
        "model.save_weights('robot_2_dof_v2.h5')"
      ],
      "metadata": {
        "id": "Y28iiTkyicUH"
      },
      "execution_count": null,
      "outputs": []
    },
    {
      "cell_type": "code",
      "source": [
        "#plot accurracy\n",
        "plt.plot(history.history['acc'])\n",
        "plt.plot(history.history['val_acc'])\n",
        "plt.title('Model accuracy')\n",
        "plt.ylabel('Accuracy')\n",
        "plt.xlabel('Epochs')\n",
        "plt.legend(['Train','Validation'],loc='upper_left')\n",
        "plt.show()\n",
        "\n",
        "#plot error\n",
        "plt.plot(history.history['loss'])\n",
        "plt.plot(history.history['val_loss'])\n",
        "plt.title('Model error')\n",
        "plt.ylabel('error')\n",
        "plt.xlabel('Epochs')\n",
        "plt.show()"
      ],
      "metadata": {
        "id": "d98PiC0JVK7X",
        "colab": {
          "base_uri": "https://localhost:8080/",
          "height": 828
        },
        "outputId": "59b60ca6-4ca2-4b13-e29f-f8144a641087"
      },
      "execution_count": null,
      "outputs": [
        {
          "output_type": "stream",
          "name": "stderr",
          "text": [
            "/usr/local/lib/python3.7/dist-packages/ipykernel_launcher.py:7: MatplotlibDeprecationWarning: Unrecognized location 'upper_left'. Falling back on 'best'; valid locations are\n",
            "\tbest\n",
            "\tupper right\n",
            "\tupper left\n",
            "\tlower left\n",
            "\tlower right\n",
            "\tright\n",
            "\tcenter left\n",
            "\tcenter right\n",
            "\tlower center\n",
            "\tupper center\n",
            "\tcenter\n",
            "This will raise an exception in 3.3.\n",
            "  import sys\n"
          ]
        },
        {
          "output_type": "display_data",
          "data": {
            "text/plain": [
              "<Figure size 432x288 with 1 Axes>"
            ],
            "image/png": "[encoded data removed]"
          },
          "metadata": {
            "needs_background": "light"
          }
        },
        {
          "output_type": "display_data",
          "data": {
            "text/plain": [
              "<Figure size 432x288 with 1 Axes>"
            ],
            "image/png": "[encoded data removed]"
          },
          "metadata": {
            "needs_background": "light"
          }
        }
      ]
    },
    {
      "cell_type": "markdown",
      "source": [
        "#5.PREDICT"
      ],
      "metadata": {
        "id": "zgOBTWY9h4t0"
      }
    },
    {
      "cell_type": "code",
      "source": [
        "px = (int(input(\"Px_desires: \"))+90)/180 #enter the Px desired value\n",
        "py = (int(input(\"Py_desires: \"))+90)/180 #enter the Py desired value\n",
        "test = model.predict([[px,py]])\n",
        "t1 = test[0][0]*180\n",
        "t2 = test[0][1]*180\n",
        "px_predict = l1*m.cos(m.radians(t1)) + l2*m.cos(m.radians(t1+t2))\n",
        "py_predict = l1*m.sin(m.radians(t1)) + l2*m.sin(m.radians(t1+t2))\n",
        "print('Px_pre = ',px_predict,'Py_pre = ',py_predict)\n",
        "print('t1_pre = ',t1,'t2_pre = ',t2)"
      ],
      "metadata": {
        "id": "Y8SQm87jVNvS",
        "colab": {
          "base_uri": "https://localhost:8080/"
        },
        "outputId": "65bdc600-2d51-4114-e377-92a889af71c0"
      },
      "execution_count": null,
      "outputs": [
        {
          "output_type": "stream",
          "name": "stdout",
          "text": [
            "Px_desires: 50\n",
            "Py_desires: 50\n",
            "Px_pre =  50.1440143514426 Py_pre =  50.16722849945843\n",
            "t1_pre =  11.753413081169128 t2_pre =  76.53842210769653\n"
          ]
        }
      ]
    }
  ]
}